{
 "cells": [
  {
   "cell_type": "code",
   "execution_count": 157,
   "id": "50344718",
   "metadata": {},
   "outputs": [],
   "source": [
    "import pandas as pd\n",
    "import numpy as np\n",
    "\n",
    "# read in file\n",
    "df = pd.read_csv('census.csv')\n",
    "\n",
    "# reassign header row\n",
    "df.columns = df.iloc[0]\n",
    "df = df[1:]\n",
    "\n",
    "# filter out columns\n",
    "col_names = df.columns.tolist()\n",
    "col_names = [x for x in col_names if \"Percent\" in x and \"Margin\" not in x and \"Total\" not in x]\n",
    "df = df[col_names]"
   ]
  },
  {
   "cell_type": "code",
   "execution_count": 158,
   "id": "e2b7ce7f",
   "metadata": {},
   "outputs": [],
   "source": [
    "# clean up column names\n",
    "indices = [df.columns.tolist()[x].find('!!') for x in range(len(df.columns.tolist()))]\n",
    "col_names = [df.columns.tolist()[x][indices[x]+2:] for x in range(len(indices))]\n",
    "dict_colnames = {}\n",
    "for d in range(len(df.columns.tolist())):\n",
    "    dict_colnames[df.columns.tolist()[d]] = col_names[d]\n",
    "df.rename(columns=dict_colnames,\n",
    "          inplace=True)\n",
    "df = df.loc[:,~df.columns.duplicated()]\n",
    "# replace all \"-\"\n",
    "df[0:] = df[0:].replace('-', '', regex=True)\n",
    "df[0:] = df[0:].replace(\"(X)\", '')"
   ]
  },
  {
   "cell_type": "code",
   "execution_count": 161,
   "id": "9d9c825d",
   "metadata": {},
   "outputs": [],
   "source": [
    "# Do linear regression\n",
    "dict_final = {'x_column':[],'y_column':[],'r_squared':[]}\n",
    "from sklearn.linear_model import LinearRegression\n",
    "for x in df.columns.tolist():\n",
    "    for y in df.columns.tolist():\n",
    "        if x == y:\n",
    "            pass\n",
    "        else:\n",
    "            x_index = x.find('!!')\n",
    "            y_index = y.find('!!')\n",
    "            if x[0:x_index] == y[0:y_index]:\n",
    "                pass\n",
    "            else:\n",
    "                df_temp = df[(df[x]!='')&(df[y]!='')]\n",
    "                x1 = df_temp[x].values\n",
    "                x1 = x1.reshape(len(x1), 1)\n",
    "                y1 = df_temp[y].values\n",
    "                y1 = y1.reshape(len(y1), 1)\n",
    "                if len(x1) == 0 or len(y1) == 0:\n",
    "                    pass\n",
    "                else:\n",
    "                    model = LinearRegression()\n",
    "                    modelfit = model.fit(x1, y1)\n",
    "                    dict_final['x_column'].append(x)\n",
    "                    dict_final['y_column'].append(y)\n",
    "                    dict_final['r_squared'].append(model.score(x1, y1))"
   ]
  },
  {
   "cell_type": "code",
   "execution_count": 162,
   "id": "68b3da09",
   "metadata": {},
   "outputs": [],
   "source": [
    "df_output = pd.DataFrame(dict_final,columns=['x_column','y_column','r_squared']).sort_values(\"r_squared\",ascending=False)\n",
    "df_output.to_excel('test.xlsx',index=False)"
   ]
  },
  {
   "cell_type": "code",
   "execution_count": null,
   "id": "ae74ce0e",
   "metadata": {},
   "outputs": [],
   "source": []
  }
 ],
 "metadata": {
  "kernelspec": {
   "display_name": "Python 3 (ipykernel)",
   "language": "python",
   "name": "python3"
  },
  "language_info": {
   "codemirror_mode": {
    "name": "ipython",
    "version": 3
   },
   "file_extension": ".py",
   "mimetype": "text/x-python",
   "name": "python",
   "nbconvert_exporter": "python",
   "pygments_lexer": "ipython3",
   "version": "3.9.7"
  }
 },
 "nbformat": 4,
 "nbformat_minor": 5
}
